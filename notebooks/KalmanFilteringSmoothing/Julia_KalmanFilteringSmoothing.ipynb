{
 "cells": [
  {
   "cell_type": "markdown",
   "metadata": {},
   "source": [
    "# Kalman filtering and Smoothing for the river nile data"
   ]
  },
  {
   "cell_type": "markdown",
   "metadata": {},
   "source": [
    "This notebook analyzes the River Nile data using the local level model with full implementation of the Kalman filter and smoother."
   ]
  },
  {
   "cell_type": "code",
   "execution_count": 6,
   "metadata": {},
   "outputs": [
    {
     "name": "stderr",
     "output_type": "stream",
     "text": [
      "\u001b[32m\u001b[1m   Resolving\u001b[22m\u001b[39m package versions...\n",
      "\u001b[32m\u001b[1m  No Changes\u001b[22m\u001b[39m to `~/Dropbox/BayesBookWeb/BayesianLearningBook/notebooks/KalmanFilteringSmoothing/Project.toml`\n",
      "\u001b[32m\u001b[1m  No Changes\u001b[22m\u001b[39m to `~/Dropbox/BayesBookWeb/BayesianLearningBook/notebooks/KalmanFilteringSmoothing/Manifest.toml`\n"
     ]
    }
   ],
   "source": [
    "using Pkg\n",
    "Pkg.add(\"Plots\");"
   ]
  },
  {
   "cell_type": "markdown",
   "metadata": {},
   "source": [
    "Define the Kalman filter update at a given time point:"
   ]
  },
  {
   "cell_type": "code",
   "execution_count": 7,
   "metadata": {},
   "outputs": [],
   "source": [
    "function kalmanfilter_update(μ, Ω, u, y, A, B, C, Σₑ, Σₙ)\n",
    "\n",
    "    # Prediction step - moving state forward without new measurement\n",
    "    μ̄ = A*μ .+ B*u\n",
    "    Ω̄ = A*Ω*A' + Σₙ\n",
    "\n",
    "    # Measurement update - updating the N(μ̄, Ω̄) prior with the new data point\n",
    "    K = Ω̄*C' / (C*Ω̄*C' .+ Σₑ) # Kalman Gain\n",
    "    μ = μ̄ + K*(y .- C*μ̄)\n",
    "    Ω = (I - K*C)*Ω̄\n",
    "    return μ, Ω\n",
    "\n",
    "end;"
   ]
  },
  {
   "cell_type": "markdown",
   "metadata": {},
   "source": [
    "Defining a function for the Kalman filter algorithm that calls on the *kalmanfilter_update* at each time-step:"
   ]
  },
  {
   "cell_type": "code",
   "execution_count": 8,
   "metadata": {},
   "outputs": [],
   "source": [
    "function kalmanfilter(U, Y, A, B, C, Σₑ, Σₙ, μ₀, Σ₀)\n",
    "    \n",
    "    T = size(Y,1)   # Number of time steps\n",
    "    n = length(μ₀)  # Dimension of the state vector      \n",
    "\n",
    "    # Storage for the mean and covariance state vector trajectory over time\n",
    "    μ_filter = zeros(T, n)   \n",
    "    Σ_filter = zeros(n, n, T)\n",
    "    \n",
    "    # The Kalman iterations\n",
    "    μ = μ₀\n",
    "    Σ = Σ₀\n",
    "    for t = 1:T\n",
    "        μ, Σ = kalmanfilter_update(μ, Σ, U[t,:]', Y[t,:]', A, B, C, Σₑ, Σₙ)\n",
    "        μ_filter[t,:] .= μ\n",
    "        Σ_filter[:,:,t] .= Σ\n",
    "    end\n",
    "\n",
    "    return μ_filter, Σ_filter\n",
    "\n",
    "end;"
   ]
  }
 ],
 "metadata": {
  "kernelspec": {
   "display_name": "Python 3 (ipykernel)",
   "language": "python",
   "name": "python3"
  },
  "language_info": {
   "codemirror_mode": {
    "name": "ipython",
    "version": 3
   },
   "file_extension": ".py",
   "mimetype": "text/x-python",
   "name": "python",
   "nbconvert_exporter": "python",
   "pygments_lexer": "ipython3",
   "version": "3.8.8"
  }
 },
 "nbformat": 4,
 "nbformat_minor": 4
}
