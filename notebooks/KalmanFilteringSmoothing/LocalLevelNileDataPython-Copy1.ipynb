{
 "cells": [
  {
   "cell_type": "code",
   "execution_count": 12,
   "id": "0b15db09-13cc-4933-90a2-cda56a957c0d",
   "metadata": {},
   "outputs": [],
   "source": [
    "%matplotlib inline\n",
    "\n",
    "from importlib import reload\n",
    "import numpy as np\n",
    "import pandas as pd\n",
    "import statsmodels.api as sm\n",
    "import matplotlib.pyplot as plt\n",
    "\n",
    "from scipy.stats import invwishart, invgamma, norm\n",
    "\n",
    "# Get the macro dataset\n",
    "nile = pd.read_csv('nile.csv')"
   ]
  },
  {
   "cell_type": "code",
   "execution_count": 15,
   "id": "57be695a-80b7-4981-a1e6-d26249373508",
   "metadata": {},
   "outputs": [],
   "source": [
    "\"\"\"\n",
    "Univariate Local Linear Trend Model\n",
    "\"\"\"\n",
    "class LocalLinearTrend(sm.tsa.statespace.MLEModel):\n",
    "    def __init__(self, endog):\n",
    "        # Model order\n",
    "        k_states = k_posdef = 2\n",
    "\n",
    "        # Initialize the statespace\n",
    "        super(LocalLinearTrend, self).__init__(\n",
    "            endog, k_states=k_states, k_posdef=k_posdef,\n",
    "            initialization='approximate_diffuse',\n",
    "            loglikelihood_burn=k_states\n",
    "        )\n",
    "\n",
    "        # Initialize the matrices\n",
    "        self.ssm['design'] = np.array([1, 0])\n",
    "        self.ssm['transition'] = np.array([[1, 1],\n",
    "                                       [0, 1]])\n",
    "        self.ssm['selection'] = np.eye(k_states)\n",
    "\n",
    "        # Cache some indices\n",
    "        self._state_cov_idx = ('state_cov',) + np.diag_indices(k_posdef)\n",
    "\n",
    "    @property\n",
    "    def param_names(self):\n",
    "        return ['sigma2.measurement', 'sigma2.level', 'sigma2.trend']\n",
    "\n",
    "    @property\n",
    "    def start_params(self):\n",
    "        return [np.std(self.endog)]*3\n",
    "\n",
    "    def transform_params(self, unconstrained):\n",
    "        return unconstrained**2\n",
    "\n",
    "    def untransform_params(self, constrained):\n",
    "        return constrained**0.5\n",
    "\n",
    "    def update(self, params, *args, **kwargs):\n",
    "        params = super(LocalLinearTrend, self).update(params, *args, **kwargs)\n",
    "\n",
    "        # Observation covariance\n",
    "        self.ssm['obs_cov',0,0] = params[0]\n",
    "\n",
    "        # State covariance\n",
    "        self.ssm[self._state_cov_idx] = params[1:]\n"
   ]
  },
  {
   "cell_type": "code",
   "execution_count": 18,
   "id": "e73867fb-2244-4c04-a2a5-d2e0c99f1f99",
   "metadata": {},
   "outputs": [],
   "source": [
    "\"\"\"\n",
    "Univariate Local Linear Level Model\n",
    "\"\"\"\n",
    "class LocalLinearLevel(sm.tsa.statespace.MLEModel):\n",
    "    def __init__(self, endog):\n",
    "        # Model order\n",
    "        k_states = k_posdef = 1\n",
    "\n",
    "        # Initialize the statespace\n",
    "        super(LocalLinearLevel, self).__init__(\n",
    "            endog, k_states=k_states, k_posdef=k_posdef,\n",
    "            initialization='approximate_diffuse',\n",
    "            loglikelihood_burn=k_states\n",
    "        )\n",
    "\n",
    "        # Initialize the matrices\n",
    "        self.ssm['design'] = np.array([1])\n",
    "        self.ssm['transition'] = np.array([[1]])\n",
    "        self.ssm['selection'] = np.eye(k_states)\n",
    "\n",
    "        # Cache some indices\n",
    "        self._state_cov_idx = ('state_cov',) + np.diag_indices(k_posdef)\n",
    "\n",
    "    @property\n",
    "    def param_names(self):\n",
    "        return ['sigma2.measurement', 'sigma2.level']\n",
    "\n",
    "    @property\n",
    "    def start_params(self):\n",
    "        return [np.std(self.endog)]*2\n",
    "\n",
    "    def transform_params(self, unconstrained):\n",
    "        return unconstrained**2\n",
    "\n",
    "    def untransform_params(self, constrained):\n",
    "        return constrained**0.5\n",
    "\n",
    "    def update(self, params, *args, **kwargs):\n",
    "        params = super(LocalLinearLevel, self).update(params, *args, **kwargs)\n",
    "\n",
    "        # Observation covariance\n",
    "        self.ssm['obs_cov',0,0] = params[0]\n",
    "\n",
    "        # State covariance\n",
    "        self.ssm[self._state_cov_idx] = params[1:]"
   ]
  },
  {
   "cell_type": "code",
   "execution_count": 24,
   "id": "c4fc6210-1427-466e-a8fb-c14d89aaaccf",
   "metadata": {},
   "outputs": [
    {
     "name": "stdout",
     "output_type": "stream",
     "text": [
      "                           Statespace Model Results                           \n",
      "==============================================================================\n",
      "Dep. Variable:                   flow   No. Observations:                  100\n",
      "Model:               LocalLinearLevel   Log Likelihood                -636.763\n",
      "Date:                Thu, 29 Feb 2024   AIC                           1273.526\n",
      "Time:                        18:47:39   BIC                           1273.526\n",
      "Sample:                             0   HQIC                          1273.526\n",
      "                                - 100                                         \n",
      "Covariance Type:                  opg                                         \n",
      "==============================================================================================\n",
      "                                 coef    std err          z      P>|z|      [0.025      0.975]\n",
      "----------------------------------------------------------------------------------------------\n",
      "sigma2.measurement (fixed)      1e+04        nan        nan        nan         nan         nan\n",
      "sigma2.level (fixed)            1e+04        nan        nan        nan         nan         nan\n",
      "===================================================================================\n",
      "Ljung-Box (L1) (Q):                   2.16   Jarque-Bera (JB):                 0.40\n",
      "Prob(Q):                              0.14   Prob(JB):                         0.82\n",
      "Heteroskedasticity (H):               0.65   Skew:                             0.13\n",
      "Prob(H) (two-sided):                  0.22   Kurtosis:                         2.83\n",
      "===================================================================================\n",
      "\n",
      "Warnings:\n",
      "[1] Covariance matrix calculated using the outer product of gradients (complex-step).\n"
     ]
    }
   ],
   "source": [
    "mod = LocalLinearLevel(nile['flow'])\n",
    "initial_state = np.array([1000])  # Example: Modify based on your model's state dimension\n",
    "initial_state_cov = np.eye(1) * 1000**2  # Small non-zero covariance for each state\n",
    "\n",
    "# Initialize the model with known values\n",
    "mod.initialize_known(initial_state, initial_state_cov)\n",
    "\n",
    "constraints = {'sigma2.measurement': 100**2, 'sigma2.level': 100**2}\n",
    "# Fit the model with constraints\n",
    "res = mod.fit_constrained(constraints)\n",
    "\n",
    "#res = mod.fit(disp=False)\n",
    "print(res.summary())"
   ]
  },
  {
   "cell_type": "code",
   "execution_count": 19,
   "id": "e0e91865-7049-4602-8026-267de50d955c",
   "metadata": {},
   "outputs": [
    {
     "name": "stdout",
     "output_type": "stream",
     "text": [
      "                           Statespace Model Results                           \n",
      "==============================================================================\n",
      "Dep. Variable:                   flow   No. Observations:                  100\n",
      "Model:               LocalLinearLevel   Log Likelihood                -632.538\n",
      "Date:                Thu, 29 Feb 2024   AIC                           1269.075\n",
      "Time:                        18:33:54   BIC                           1274.266\n",
      "Sample:                             0   HQIC                          1271.175\n",
      "                                - 100                                         \n",
      "Covariance Type:                  opg                                         \n",
      "======================================================================================\n",
      "                         coef    std err          z      P>|z|      [0.025      0.975]\n",
      "--------------------------------------------------------------------------------------\n",
      "sigma2.measurement  1.513e+04   2591.445      5.837      0.000       1e+04    2.02e+04\n",
      "sigma2.level        1461.9955    843.753      1.733      0.083    -191.730    3115.721\n",
      "===================================================================================\n",
      "Ljung-Box (L1) (Q):                   1.36   Jarque-Bera (JB):                 0.05\n",
      "Prob(Q):                              0.24   Prob(JB):                         0.98\n",
      "Heteroskedasticity (H):               0.61   Skew:                            -0.03\n",
      "Prob(H) (two-sided):                  0.16   Kurtosis:                         3.08\n",
      "===================================================================================\n",
      "\n",
      "Warnings:\n",
      "[1] Covariance matrix calculated using the outer product of gradients (complex-step).\n"
     ]
    }
   ],
   "source": [
    "mod = LocalLinearLevel(nile['flow'])\n",
    "\n",
    "res = mod.fit(disp=False)\n",
    "print(res.summary())"
   ]
  },
  {
   "cell_type": "code",
   "execution_count": 13,
   "id": "008428db-e60a-4a59-963d-bd7086d7a3db",
   "metadata": {},
   "outputs": [
    {
     "name": "stdout",
     "output_type": "stream",
     "text": [
      "sigma2.irregular    15078.011658\n",
      "sigma2.level         1478.811445\n",
      "dtype: float64\n"
     ]
    }
   ],
   "source": [
    "# Construct a local level model for inflation\n",
    "mod = sm.tsa.UnobservedComponents(nile.flow, 'llevel')\n",
    "\n",
    "# Fit the model's parameters (sigma2_varepsilon and sigma2_eta)\n",
    "# via maximum likelihood\n",
    "res = mod.fit()\n",
    "print(res.params)\n",
    "\n",
    "# Create simulation smoother objects\n",
    "sim_kfs = mod.simulation_smoother()              # default method is KFS\n",
    "sim_cfa = mod.simulation_smoother(method='cfa')  # can specify CFA method"
   ]
  },
  {
   "cell_type": "code",
   "execution_count": 4,
   "id": "cc8a8c13-b6ea-49b3-8068-a753919ab87c",
   "metadata": {},
   "outputs": [],
   "source": [
    "nsimulations = 20\n",
    "simulated_state_kfs = pd.DataFrame(\n",
    "    np.zeros((mod.nobs, nsimulations)), index=dta.index)\n",
    "simulated_state_cfa = pd.DataFrame(\n",
    "    np.zeros((mod.nobs, nsimulations)), index=dta.index)\n",
    "\n",
    "for i in range(nsimulations):\n",
    "    # Apply KFS simulation smoothing\n",
    "    sim_kfs.simulate()\n",
    "    # Save the KFS simulated state\n",
    "    simulated_state_kfs.iloc[:, i] = sim_kfs.simulated_state[0]\n",
    "\n",
    "    # Apply CFA simulation smoothing\n",
    "    sim_cfa.simulate()\n",
    "    # Save the CFA simulated state\n",
    "    simulated_state_cfa.iloc[:, i] = sim_cfa.simulated_state[0]"
   ]
  },
  {
   "cell_type": "code",
   "execution_count": 14,
   "id": "38c06d26-e25f-482f-982a-3e1ba1a07dca",
   "metadata": {},
   "outputs": [
    {
     "data": {
      "text/plain": [
       "<statsmodels.tsa.statespace.structural.UnobservedComponents at 0x70a3e514c130>"
      ]
     },
     "execution_count": 14,
     "metadata": {},
     "output_type": "execute_result"
    }
   ],
   "source": [
    "mod"
   ]
  }
 ],
 "metadata": {
  "kernelspec": {
   "display_name": "Python 3 (ipykernel)",
   "language": "python",
   "name": "python3"
  },
  "language_info": {
   "codemirror_mode": {
    "name": "ipython",
    "version": 3
   },
   "file_extension": ".py",
   "mimetype": "text/x-python",
   "name": "python",
   "nbconvert_exporter": "python",
   "pygments_lexer": "ipython3",
   "version": "3.8.8"
  }
 },
 "nbformat": 4,
 "nbformat_minor": 5
}
