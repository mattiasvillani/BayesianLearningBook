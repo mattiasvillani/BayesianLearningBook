{
 "cells": [
  {
   "cell_type": "code",
   "execution_count": 1,
   "id": "09fceebb-68b0-4a0a-b542-0ee6e7a7a712",
   "metadata": {},
   "outputs": [
    {
     "data": {
      "text/plain": [
       "4"
      ]
     },
     "execution_count": 1,
     "metadata": {},
     "output_type": "execute_result"
    }
   ],
   "source": [
    "a = 4"
   ]
  },
  {
   "cell_type": "code",
   "execution_count": 2,
   "id": "be0639f1-9b69-4b17-8380-4f7556fa96fd",
   "metadata": {},
   "outputs": [
    {
     "data": {
      "text/plain": [
       "4"
      ]
     },
     "execution_count": 2,
     "metadata": {},
     "output_type": "execute_result"
    }
   ],
   "source": [
    "b = 4"
   ]
  },
  {
   "cell_type": "code",
   "execution_count": 3,
   "id": "72c997f8-ebed-4256-8f7f-111e83dd5281",
   "metadata": {},
   "outputs": [
    {
     "name": "stdout",
     "output_type": "stream",
     "text": [
      "This is the value of a= 4\n"
     ]
    }
   ],
   "source": [
    "println(\"This is the value of a= $a\")"
   ]
  },
  {
   "cell_type": "code",
   "execution_count": null,
   "id": "9995d7ff-6854-4df8-80ac-e3b5140af761",
   "metadata": {},
   "outputs": [],
   "source": []
  }
 ],
 "metadata": {
  "kernelspec": {
   "display_name": "Julia 1.10.0",
   "language": "julia",
   "name": "julia-1.10"
  },
  "language_info": {
   "file_extension": ".jl",
   "mimetype": "application/julia",
   "name": "julia",
   "version": "1.10.0"
  }
 },
 "nbformat": 4,
 "nbformat_minor": 5
}
